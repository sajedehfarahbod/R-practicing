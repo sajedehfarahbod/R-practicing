{
  "nbformat": 4,
  "nbformat_minor": 0,
  "metadata": {
    "colab": {
      "provenance": [],
      "include_colab_link": true
    },
    "kernelspec": {
      "name": "ir",
      "display_name": "R"
    }
  },
  "cells": [
    {
      "cell_type": "markdown",
      "metadata": {
        "id": "view-in-github",
        "colab_type": "text"
      },
      "source": [
        "<a href=\"https://colab.research.google.com/github/sajedehfarahbod/R-practicing/blob/main/Copy_of_IR.ipynb\" target=\"_parent\"><img src=\"https://colab.research.google.com/assets/colab-badge.svg\" alt=\"Open In Colab\"/></a>"
      ]
    },
    {
      "cell_type": "markdown",
      "source": [
        "# NOTE: This notebook is unnecessary since Google Colab now directly supports R. Please navigate to `Runtime -> Change runtime type` and select `R`."
      ],
      "metadata": {
        "id": "SWeg7u8IjsOA"
      }
    },
    {
      "cell_type": "code",
      "source": [
        "\n",
        "# install GEOquery\n",
        "BiocManager::install(\"GEOquery\")"
      ],
      "metadata": {
        "colab": {
          "base_uri": "https://localhost:8080/"
        },
        "id": "DNkrft7j-J7s",
        "outputId": "54313d03-e875-4816-ea49-ba596ccc3394"
      },
      "execution_count": null,
      "outputs": [
        {
          "output_type": "stream",
          "name": "stderr",
          "text": [
            "'getOption(\"repos\")' replaces Bioconductor standard repositories, see\n",
            "'help(\"repositories\", package = \"BiocManager\")' for details.\n",
            "Replacement repositories:\n",
            "    CRAN: https://cran.rstudio.com\n",
            "\n",
            "Bioconductor version 3.19 (BiocManager 1.30.23), R 4.4.1 (2024-06-14)\n",
            "\n",
            "Warning message:\n",
            "“package(s) not installed when version(s) same as or greater than current; use\n",
            "  `force = TRUE` to re-install: 'GEOquery'”\n"
          ]
        }
      ]
    },
    {
      "cell_type": "code",
      "source": [
        "# Install from CRAN\n",
        "install.packages(\"tidyverse\")"
      ],
      "metadata": {
        "collapsed": true,
        "colab": {
          "base_uri": "https://localhost:8080/"
        },
        "id": "VKAM5t1O_aPR",
        "outputId": "cb82f2f4-b91f-4fcc-e289-a445f36689b2"
      },
      "execution_count": null,
      "outputs": [
        {
          "output_type": "stream",
          "name": "stderr",
          "text": [
            "Installing package into ‘/usr/local/lib/R/site-library’\n",
            "(as ‘lib’ is unspecified)\n",
            "\n"
          ]
        }
      ]
    },
    {
      "cell_type": "markdown",
      "source": [],
      "metadata": {
        "id": "QnKjgomSRxnB"
      }
    },
    {
      "cell_type": "code",
      "source": [
        "install.packages(\"affy\")"
      ],
      "metadata": {
        "colab": {
          "base_uri": "https://localhost:8080/"
        },
        "id": "4fp77buxAHZG",
        "outputId": "f18b8f45-2727-40c0-8a49-b6974b3b735e"
      },
      "execution_count": null,
      "outputs": [
        {
          "output_type": "stream",
          "name": "stderr",
          "text": [
            "Installing package into ‘/usr/local/lib/R/site-library’\n",
            "(as ‘lib’ is unspecified)\n",
            "\n",
            "Warning message:\n",
            "“package ‘affy’ is not available for this version of R\n",
            "\n",
            "A version of this package for your version of R might be available elsewhere,\n",
            "see the ideas at\n",
            "https://cran.r-project.org/doc/manuals/r-patched/R-admin.html#Installing-packages”\n"
          ]
        }
      ]
    },
    {
      "cell_type": "code",
      "source": [
        "update.packages(ask = FALSE)"
      ],
      "metadata": {
        "id": "SJMjaHQUS8JQ"
      },
      "execution_count": null,
      "outputs": []
    },
    {
      "cell_type": "code",
      "metadata": {
        "id": "IS3VN3qamf20"
      },
      "source": [
        "library(\"affy\")\n",
        "library(\"GEOquery\")\n",
        "library (\"tidyverse\")"
      ],
      "execution_count": null,
      "outputs": []
    },
    {
      "cell_type": "code",
      "source": [],
      "metadata": {
        "id": "OCB6mJ32S7fT"
      },
      "execution_count": null,
      "outputs": []
    },
    {
      "cell_type": "code",
      "source": [
        "# get supplementary files\n",
        "getGEOSuppFiles(\"GSE148537\")"
      ],
      "metadata": {
        "colab": {
          "base_uri": "https://localhost:8080/",
          "height": 129
        },
        "id": "_SgrM5irCy0H",
        "outputId": "d378c569-cd9b-49bc-dcc5-e91d5918389e"
      },
      "execution_count": null,
      "outputs": [
        {
          "output_type": "display_data",
          "data": {
            "text/html": [
              "<table class=\"dataframe\">\n",
              "<caption>A data.frame: 1 × 10</caption>\n",
              "<thead>\n",
              "\t<tr><th></th><th scope=col>size</th><th scope=col>isdir</th><th scope=col>mode</th><th scope=col>mtime</th><th scope=col>ctime</th><th scope=col>atime</th><th scope=col>uid</th><th scope=col>gid</th><th scope=col>uname</th><th scope=col>grname</th></tr>\n",
              "\t<tr><th></th><th scope=col>&lt;dbl&gt;</th><th scope=col>&lt;lgl&gt;</th><th scope=col>&lt;octmode&gt;</th><th scope=col>&lt;dttm&gt;</th><th scope=col>&lt;dttm&gt;</th><th scope=col>&lt;dttm&gt;</th><th scope=col>&lt;int&gt;</th><th scope=col>&lt;int&gt;</th><th scope=col>&lt;chr&gt;</th><th scope=col>&lt;chr&gt;</th></tr>\n",
              "</thead>\n",
              "<tbody>\n",
              "\t<tr><th scope=row>/content/GSE148537/GSE148537_RAW.tar</th><td>17704960</td><td>FALSE</td><td>644</td><td>2024-07-31 15:33:54</td><td>2024-07-31 15:33:54</td><td>2024-07-31 15:20:42</td><td>0</td><td>0</td><td>root</td><td>root</td></tr>\n",
              "</tbody>\n",
              "</table>\n"
            ],
            "text/markdown": "\nA data.frame: 1 × 10\n\n| <!--/--> | size &lt;dbl&gt; | isdir &lt;lgl&gt; | mode &lt;octmode&gt; | mtime &lt;dttm&gt; | ctime &lt;dttm&gt; | atime &lt;dttm&gt; | uid &lt;int&gt; | gid &lt;int&gt; | uname &lt;chr&gt; | grname &lt;chr&gt; |\n|---|---|---|---|---|---|---|---|---|---|---|\n| /content/GSE148537/GSE148537_RAW.tar | 17704960 | FALSE | 644 | 2024-07-31 15:33:54 | 2024-07-31 15:33:54 | 2024-07-31 15:20:42 | 0 | 0 | root | root |\n\n",
            "text/latex": "A data.frame: 1 × 10\n\\begin{tabular}{r|llllllllll}\n  & size & isdir & mode & mtime & ctime & atime & uid & gid & uname & grname\\\\\n  & <dbl> & <lgl> & <octmode> & <dttm> & <dttm> & <dttm> & <int> & <int> & <chr> & <chr>\\\\\n\\hline\n\t/content/GSE148537/GSE148537\\_RAW.tar & 17704960 & FALSE & 644 & 2024-07-31 15:33:54 & 2024-07-31 15:33:54 & 2024-07-31 15:20:42 & 0 & 0 & root & root\\\\\n\\end{tabular}\n",
            "text/plain": [
              "                                     size     isdir mode mtime              \n",
              "/content/GSE148537/GSE148537_RAW.tar 17704960 FALSE 644  2024-07-31 15:33:54\n",
              "                                     ctime               atime              \n",
              "/content/GSE148537/GSE148537_RAW.tar 2024-07-31 15:33:54 2024-07-31 15:20:42\n",
              "                                     uid gid uname grname\n",
              "/content/GSE148537/GSE148537_RAW.tar 0   0   root  root  "
            ]
          },
          "metadata": {}
        }
      ]
    },
    {
      "cell_type": "code",
      "source": [
        "# untar files\n",
        "untar(\"GSE148537/GSE148537_RAW.tar\", exdir = 'data/')"
      ],
      "metadata": {
        "id": "pyAZKib-D7uI"
      },
      "execution_count": null,
      "outputs": []
    },
    {
      "cell_type": "code",
      "source": [
        "install.packages(\"Biobase\")"
      ],
      "metadata": {
        "colab": {
          "base_uri": "https://localhost:8080/"
        },
        "id": "RpRtlentboWe",
        "outputId": "a1d1a849-f6b5-424a-88e1-e18900b516ac"
      },
      "execution_count": null,
      "outputs": [
        {
          "output_type": "stream",
          "name": "stderr",
          "text": [
            "Installing package into ‘/usr/local/lib/R/site-library’\n",
            "(as ‘lib’ is unspecified)\n",
            "\n",
            "Warning message:\n",
            "“package ‘Biobase’ is not available for this version of R\n",
            "\n",
            "A version of this package for your version of R might be available elsewhere,\n",
            "see the ideas at\n",
            "https://cran.r-project.org/doc/manuals/r-patched/R-admin.html#Installing-packages”\n"
          ]
        }
      ]
    },
    {
      "cell_type": "code",
      "source": [
        "library(Biobase)\n"
      ],
      "metadata": {
        "id": "BFOJmOTXbvyL"
      },
      "execution_count": null,
      "outputs": []
    },
    {
      "cell_type": "code",
      "source": [
        "raw.data.eset <- as.ExpressionSet(raw.data)\n"
      ],
      "metadata": {
        "colab": {
          "base_uri": "https://localhost:8080/",
          "height": 72
        },
        "id": "650N6O68b5iy",
        "outputId": "eeed3061-da34-44c5-b0f5-7a7f872319ff"
      },
      "execution_count": null,
      "outputs": [
        {
          "output_type": "error",
          "ename": "ERROR",
          "evalue": "Error in as.ExpressionSet(raw.data): could not find function \"as.ExpressionSet\"\n",
          "traceback": [
            "Error in as.ExpressionSet(raw.data): could not find function \"as.ExpressionSet\"\nTraceback:\n"
          ]
        }
      ]
    },
    {
      "cell_type": "code",
      "source": [
        "BiocManager::install(\"limma\")\n"
      ],
      "metadata": {
        "colab": {
          "base_uri": "https://localhost:8080/"
        },
        "id": "An_49BcNZRwE",
        "outputId": "fa055015-bd72-4ac6-9437-e6617c0d174b"
      },
      "execution_count": null,
      "outputs": [
        {
          "output_type": "stream",
          "name": "stderr",
          "text": [
            "'getOption(\"repos\")' replaces Bioconductor standard repositories, see\n",
            "'help(\"repositories\", package = \"BiocManager\")' for details.\n",
            "Replacement repositories:\n",
            "    CRAN: https://cran.rstudio.com\n",
            "\n",
            "Bioconductor version 3.19 (BiocManager 1.30.23), R 4.4.1 (2024-06-14)\n",
            "\n",
            "Warning message:\n",
            "“package(s) not installed when version(s) same as or greater than current; use\n",
            "  `force = TRUE` to re-install: 'limma'”\n"
          ]
        }
      ]
    },
    {
      "cell_type": "code",
      "source": [
        "library (\"limma\")"
      ],
      "metadata": {
        "id": "H7vp1welZUt6"
      },
      "execution_count": null,
      "outputs": []
    },
    {
      "cell_type": "code",
      "source": [
        "# reading in .cel files\n",
        "raw.data.eset <- as.ExpressionSet(raw.data)(celfile.path = \"data/\")"
      ],
      "metadata": {
        "colab": {
          "base_uri": "https://localhost:8080/",
          "height": 72
        },
        "id": "ajeCXOJAa42p",
        "outputId": "2996dd28-480a-4d37-a9e2-f52eee6e83ba"
      },
      "execution_count": null,
      "outputs": [
        {
          "output_type": "error",
          "ename": "ERROR",
          "evalue": "Error in as.ExpressionSet(raw.data): could not find function \"as.ExpressionSet\"\n",
          "traceback": [
            "Error in as.ExpressionSet(raw.data): could not find function \"as.ExpressionSet\"\nTraceback:\n"
          ]
        }
      ]
    },
    {
      "cell_type": "code",
      "source": [
        "raw.data.eset <- as.ExpressionSet(raw.data)\n"
      ],
      "metadata": {
        "id": "APACkQiKalrE"
      },
      "execution_count": null,
      "outputs": []
    }
  ]
}